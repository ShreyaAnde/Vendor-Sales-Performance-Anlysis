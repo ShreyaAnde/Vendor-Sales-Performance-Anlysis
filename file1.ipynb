{
 "cells": [
  {
   "cell_type": "code",
   "execution_count": null,
   "id": "9d1f2299-76ab-489a-aaa3-658bcecc565b",
   "metadata": {},
   "outputs": [
    {
     "name": "stdout",
     "output_type": "stream",
     "text": [
      "(206529, 9)\n",
      "(224489, 9)\n",
      "(2372474, 16)\n"
     ]
    }
   ],
   "source": [
    "import pandas as pd\n",
    "import os\n",
    "from sqlalchemy import create_engine\n",
    "import logging\n",
    "import time\n",
    "\n",
    "logging.basicConfig(\n",
    "    filename=\"logs/ingestion_db.log\",\n",
    "    level=logging.DEBUG,\n",
    "    format=\"%(asctime)s - %(levelname)s - %(message)s\",\n",
    "    filemode=\"a\"\n",
    ")\n",
    "\n",
    "engine = create_engine('sqlite:///inventory.db') \n",
    "\n",
    "def ingest_db(df,table_name,engine):\n",
    "    df.to_sql(table_name, con = engine, if_exists ='replace',index = False)\n",
    "\n",
    "\n",
    "def load_raw_data():   \n",
    "  start = time.time()  \n",
    "  for file in os.listdir('data'):\n",
    "     if '.csv' in file:\n",
    "        df = pd.read_csv('data/'+file)\n",
    "        logging.info(f'Ingesting{file} in db')\n",
    "        print(df.shape)\n",
    "        ingest_db(df,file[:-4],engine)\n",
    "        end = time.time()\n",
    "        total_time=(end-start)/60\n",
    "        logging.info('----------Ingestion Complete---------')\n",
    "      \n",
    "        logging.info(f'\\nTotal Time Taken: {total_time}minutes')\n",
    "if __name__ ==\"__main__\":\n",
    "   load_raw_data()\n",
    "      "
   ]
  },
  {
   "cell_type": "code",
   "execution_count": 12,
   "id": "98c0cccb-58e6-48f7-82a2-46b1c4e38e10",
   "metadata": {},
   "outputs": [],
   "source": []
  },
  {
   "cell_type": "code",
   "execution_count": null,
   "id": "c3fe80bb-4ba7-40e7-9fea-5b01eeeac773",
   "metadata": {},
   "outputs": [],
   "source": []
  },
  {
   "cell_type": "code",
   "execution_count": 17,
   "id": "3879f0e3-9187-4116-99c9-360827026f6d",
   "metadata": {},
   "outputs": [],
   "source": []
  },
  {
   "cell_type": "code",
   "execution_count": null,
   "id": "ffaf713b-f696-45a6-a815-e5f04ebee57f",
   "metadata": {},
   "outputs": [],
   "source": []
  }
 ],
 "metadata": {
  "kernelspec": {
   "display_name": "Python 3 (ipykernel)",
   "language": "python",
   "name": "python3"
  },
  "language_info": {
   "codemirror_mode": {
    "name": "ipython",
    "version": 3
   },
   "file_extension": ".py",
   "mimetype": "text/x-python",
   "name": "python",
   "nbconvert_exporter": "python",
   "pygments_lexer": "ipython3",
   "version": "3.12.7"
  }
 },
 "nbformat": 4,
 "nbformat_minor": 5
}
